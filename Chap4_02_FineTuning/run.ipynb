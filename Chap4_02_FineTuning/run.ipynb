{
 "cells": [
  {
   "cell_type": "code",
   "execution_count": null,
   "metadata": {},
   "outputs": [],
   "source": [
    "from dotenv import load_dotenv\n",
    "\n",
    "load_dotenv()\n",
    "from openai import OpenAI\n",
    "\n",
    "client = OpenAI()\n",
    "\n",
    "def chat_completion(prompt, model=\"gpt-4\", temperature=0):\n",
    "    res = client.chat.completions.create(\n",
    "        model=model,\n",
    "        messages=[{\"role\": \"user\", \"content\": prompt}],\n",
    "        temperature=temperature,\n",
    "    )\n",
    "    print(res.choices[0].message.content)\n",
    "import pandas as pd"
   ]
  },
  {
   "cell_type": "code",
   "execution_count": null,
   "metadata": {},
   "outputs": [],
   "source": [
    "client = OpenAI()\n",
    "\n",
    "def chat_completion(prompt, model=\"gpt-4\", temperature=0):\n",
    "    res = client.chat.completions.create(\n",
    "        model=model,\n",
    "        messages=[{\"role\": \"user\", \"content\": prompt}],\n",
    "        temperature=temperature,\n",
    "    )\n",
    "    print(res.choices[0].message.content)\n",
    "    \n"
   ]
  },
  {
   "cell_type": "code",
   "execution_count": null,
   "metadata": {},
   "outputs": [],
   "source": [
    "l_sector = ['Grocery Stores', 'Restaurants', 'Fast Food Restaurants', 'Pharmacies', 'Service Stations (Fuel)', 'Electronics Stores']\n",
    "l_city = ['Brussels', 'Paris', 'Berlin']\n",
    "l_size = ['small', 'medium', 'large'] \n",
    "\n",
    "f_prompt = \"\"\" \n",
    "Role: You are an expert content writer with extensive direct marketing experience. You have strong writing skills, creativity, adaptability to different tones and styles, and a deep understanding of audience needs and preferences for effective direct campaigns.\n",
    "Context: You have to write a short message in maximum 2 sentences for a direct marketing campaign to sell a new e-commerce payment service to stores. \n",
    "The target stores have the three following characteristics:\n",
    "- The sector of activity: {sector}\n",
    "- The city where the stores are located: {city} \n",
    "- The size of the stores: {size}\n",
    "Task: Writes the short message for the direct marketing campaign. To write this message, use your skills defined in your role! It is very important that the messages you produce take into account the product you want to sell and the characteristics of the store you want to write to.\n",
    "\"\"\"\n",
    "\n",
    "f_sub_prompt = \"{sector}, {city}, {size}\"\n",
    "\n",
    "df = pd.DataFrame()\n",
    "for sector in l_sector:\n",
    " for city in l_city:\n",
    "  for size in l_size:\n",
    "   for i in range(3): ## 3 times each\n",
    "    prompt = f_prompt.format(sector=sector, city=city, size=size)\n",
    "    sub_prompt = f_sub_prompt.format(sector=sector, city=city, size=size)\n",
    "\n",
    "    response_txt = chat_completion(prompt, model='gpt-3.5-turbo', temperature=1)\n",
    "\n",
    "    new_row = {\n",
    "      'prompt':sub_prompt, \n",
    "      'completion':response_txt}\n",
    "    new_row = pd.DataFrame([new_row])\n",
    "    df = pd.concat([df, new_row], axis=0, ignore_index=True)\n",
    "\n",
    "df.to_csv(\"out_openai_completion.csv\")\n"
   ]
  }
 ],
 "metadata": {
  "kernelspec": {
   "display_name": ".venv",
   "language": "python",
   "name": "python3"
  },
  "language_info": {
   "codemirror_mode": {
    "name": "ipython",
    "version": 3
   },
   "file_extension": ".py",
   "mimetype": "text/x-python",
   "name": "python",
   "nbconvert_exporter": "python",
   "pygments_lexer": "ipython3",
   "version": "3.8.10"
  },
  "orig_nbformat": 4
 },
 "nbformat": 4,
 "nbformat_minor": 2
}
